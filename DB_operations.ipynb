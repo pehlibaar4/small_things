{
 "cells": [
  {
   "cell_type": "code",
   "execution_count": 1,
   "metadata": {},
   "outputs": [],
   "source": [
    "import pandas as pd\n",
    "import os"
   ]
  },
  {
   "cell_type": "code",
   "execution_count": 3,
   "metadata": {},
   "outputs": [],
   "source": [
    "# DB reader\n",
    "new_db = r\"E:\\docs\\aji\\win_music_DB.parquet\"\n",
    "df = pd.read_parquet(new_db)\n",
    "df"
   ]
  },
  {
   "cell_type": "code",
   "execution_count": 2,
   "metadata": {},
   "outputs": [],
   "source": [
    "# DB comparator\n",
    "music_db = r\"E:\\docs\\aji\\pixabay_music_DB.parquet\"\n",
    "music_folder = r\"E:\\docs\\aji\\songs\"\n",
    "\n",
    "df = pd.read_parquet(music_db)\n",
    "songs = os.listdir(music_folder)\n",
    "\n",
    "df = df.loc[df['File_Name'].isin(songs)]\n",
    "df\n",
    "# df.to_parquet(\"win_music_DB.parquet\", index=False)"
   ]
  },
  {
   "cell_type": "code",
   "execution_count": 4,
   "metadata": {},
   "outputs": [],
   "source": [
    "# DB Merger\n",
    "db_1 = r'/home/long/Documents/code_bases/mDBer/DBs/music_DB_master.parquet'\n",
    "db_2 = r'/home/long/Documents/code_bases/mDBer/DBs/ben_sound_DB.parquet'\n",
    "master_DB = r'/home/long/Documents/code_bases/mDBer/DBs/music_DB_master.parquet'\n",
    "\n",
    "df_1 = pd.read_parquet(db_1)\n",
    "df_2 = pd.read_parquet(db_2)\n",
    "\n",
    "master_df = pd.concat([df_1, df_2], ignore_index=True)\n",
    "df\n",
    "# master_df.to_parquet(master_DB)"
   ]
  }
 ],
 "metadata": {
  "kernelspec": {
   "display_name": "Python 3.8.7 ('.mdenv': venv)",
   "language": "python",
   "name": "python3"
  },
  "language_info": {
   "codemirror_mode": {
    "name": "ipython",
    "version": 3
   },
   "file_extension": ".py",
   "mimetype": "text/x-python",
   "name": "python",
   "nbconvert_exporter": "python",
   "pygments_lexer": "ipython3",
   "version": "3.8.7"
  },
  "orig_nbformat": 4,
  "vscode": {
   "interpreter": {
    "hash": "b9604b9c2730a8f9dfa167f9de37f56d6de95ab8a356a1b20f861ec5c6eab667"
   }
  }
 },
 "nbformat": 4,
 "nbformat_minor": 2
}
